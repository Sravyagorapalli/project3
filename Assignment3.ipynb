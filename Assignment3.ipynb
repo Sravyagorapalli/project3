{
 "cells": [
  {
   "cell_type": "code",
   "execution_count": 44,
   "metadata": {},
   "outputs": [
    {
     "name": "stdout",
     "output_type": "stream",
     "text": [
      "[ 2  5  8 11 14 17 20 23 26 29 32 35 38 41 44 47]\n"
     ]
    }
   ],
   "source": [
    "#question1\n",
    "import numpy as np\n",
    "arr=np.arange(2,50,3)\n",
    "print(arr)\n"
   ]
  },
  {
   "cell_type": "code",
   "execution_count": 42,
   "metadata": {},
   "outputs": [
    {
     "name": "stdout",
     "output_type": "stream",
     "text": [
      "[12 46 15 67 45 23 87 78 53 17]\n",
      "[12, 15, 45, 46, 67]\n",
      "[17, 23, 53, 78, 87]\n",
      "[12, 15, 17, 23, 45, 46, 53, 67, 78, 87]\n"
     ]
    }
   ],
   "source": [
    "#question2\n",
    "import numpy as np\n",
    "l1=[12,46,15,67,45]\n",
    "l2=[23,87,78,53,17]\n",
    "arr1=np.asarray(l1)\n",
    "arr2=np.asarray(l2)\n",
    "arr=np.concatenate((arr1,arr2))\n",
    "print(arr)\n",
    "print(sorted(arr1))\n",
    "print(sorted(arr2))\n",
    "print(sorted(arr))\n"
   ]
  },
  {
   "cell_type": "code",
   "execution_count": 46,
   "metadata": {},
   "outputs": [
    {
     "name": "stdout",
     "output_type": "stream",
     "text": [
      "[[10 20 30]\n",
      " [50 30 60]\n",
      " [40 80 90]]\n",
      "dimension of the arr: (3, 3)\n",
      "size of the arr: 9\n"
     ]
    }
   ],
   "source": [
    "#question3\n",
    "arr=np.array([[10,20,30],\n",
    "             [50,30,60],\n",
    "             [40,80,90]])\n",
    "print(arr)\n",
    "print(\"dimension of the arr:\",arr.shape)\n",
    "print(\"size of the arr:\",arr.size)\n"
   ]
  },
  {
   "cell_type": "code",
   "execution_count": 61,
   "metadata": {},
   "outputs": [
    {
     "name": "stdout",
     "output_type": "stream",
     "text": [
      "shape of arr: (10,)\n",
      "shape of row: (1, 10)\n",
      "shape of column: (10, 1)\n"
     ]
    }
   ],
   "source": [
    "#question4\n",
    "#using np.newaxis\n",
    "import numpy as np\n",
    "#creating 1d array\n",
    "arr=np.arange(10)\n",
    "print(\"shape of arr:\",arr.shape)\n",
    "#converting the 1d array to 2d array\n",
    "#converting the row size using new axis\n",
    "row_arr=arr[np.newaxis,:]\n",
    "print(\"shape of row:\",row_arr.shape)\n",
    "#converting the column size using new axis\n",
    "col_arr=arr[:,np.newaxis]\n",
    "print(\"shape of column:\",col_arr.shape)\n"
   ]
  },
  {
   "cell_type": "code",
   "execution_count": 62,
   "metadata": {},
   "outputs": [
    {
     "name": "stdout",
     "output_type": "stream",
     "text": [
      "shape of arr: (10,)\n",
      "shape of row: (1, 10)\n",
      "shape of column: (10, 1)\n"
     ]
    }
   ],
   "source": [
    "#question4\n",
    "#using np.expand_dims\n",
    "import numpy as np\n",
    "#creating 1d array\n",
    "arr=np.arange(10)\n",
    "print(\"shape of arr:\",arr.shape) \n",
    "#converting 1d array\n",
    "#converting the row size using expand_dimension\n",
    "row_arr=np.expand_dims(arr,axis=0)\n",
    "print(\"shape of row:\",row_arr.shape)\n",
    "#converting the column size using expand_dimension\n",
    "col_arr=np.expand_dims(arr,axis=1)\n",
    "print(\"shape of column:\",col_arr.shape)\n",
    "\n",
    "\n",
    "\n"
   ]
  },
  {
   "cell_type": "code",
   "execution_count": 68,
   "metadata": {},
   "outputs": [
    {
     "name": "stdout",
     "output_type": "stream",
     "text": [
      "horizantally stacked: [  4  16  36  64 100   1   9  49  81 121]\n",
      "vertically stacked: [[  4  16  36  64 100]\n",
      " [  1   9  49  81 121]]\n"
     ]
    }
   ],
   "source": [
    "#question5\n",
    "a=np.square([2,4,6,8,10])\n",
    "b=np.square([1,3,7,9,11])\n",
    "print(\"horizantally stacked:\",np.hstack((a,b)))\n",
    "print(\"vertically stacked:\",np.vstack((a,b)))\n"
   ]
  },
  {
   "cell_type": "code",
   "execution_count": 71,
   "metadata": {},
   "outputs": [
    {
     "name": "stdout",
     "output_type": "stream",
     "text": [
      "The unique elements in the list: [1 2 3 4 5 6 7 9]\n",
      "The length of unique list: 8\n"
     ]
    }
   ],
   "source": [
    "#question6\n",
    "import numpy as np\n",
    "list=[1,4,7,9,2,4,3,1,5,7,6,2,3]\n",
    "x=np.array(list)\n",
    "print(\"The unique elements in the list:\",np.unique(x))\n",
    "print(\"The length of unique list:\",len(np.unique(x)))\n",
    "\n",
    "        \n",
    "    "
   ]
  }
 ],
 "metadata": {
  "kernelspec": {
   "display_name": "Python 3",
   "language": "python",
   "name": "python3"
  },
  "language_info": {
   "codemirror_mode": {
    "name": "ipython",
    "version": 3
   },
   "file_extension": ".py",
   "mimetype": "text/x-python",
   "name": "python",
   "nbconvert_exporter": "python",
   "pygments_lexer": "ipython3",
   "version": "3.7.6"
  }
 },
 "nbformat": 4,
 "nbformat_minor": 4
}
